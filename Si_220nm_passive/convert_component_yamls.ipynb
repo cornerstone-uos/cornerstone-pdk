{
 "cells": [
  {
   "cell_type": "markdown",
   "id": "7eade8f8",
   "metadata": {},
   "source": [
    "## Convert GDSFactory YAML files to Wave Photonics' YAMLs"
   ]
  },
  {
   "cell_type": "code",
   "execution_count": 8,
   "id": "f9031a49",
   "metadata": {},
   "outputs": [],
   "source": [
    "from pathlib import Path\n",
    "\n",
    "folder_to_process = Path(\"components\")"
   ]
  },
  {
   "cell_type": "code",
   "execution_count": 9,
   "id": "fb9eb411",
   "metadata": {},
   "outputs": [],
   "source": [
    "def get_port_type(port_type_orig: str) -> str:\n",
    "    if port_type_orig == \"electrical\":\n",
    "        return \"TODO\"\n",
    "    else:\n",
    "        return port_type_orig"
   ]
  },
  {
   "cell_type": "code",
   "execution_count": 10,
   "id": "42c6fba1",
   "metadata": {},
   "outputs": [
    {
     "name": "stdout",
     "output_type": "stream",
     "text": [
      "Wrote components\\Cell0_SOI220_Full_1550nm_Packaging_Template.yaml\n",
      "Wrote components\\Heater.yaml\n",
      "Wrote components\\PHIX_char_pack_gc_ch2x16_p250_dc2x42_F_Cband.yaml\n",
      "Wrote components\\PHIX_char_pack_gc_ch2x16_p250_dc2x42_F_Oband.yaml\n",
      "Wrote components\\PHIX_char_pack_gc_ch2x32_p127_dc2x42_F_Cband.yaml\n",
      "Wrote components\\PHIX_char_pack_gc_ch2x32_p127_dc2x42_F_Oband.yaml\n",
      "Wrote components\\SOI220nm_1310nm_TE_RIB_2x1_MMI.yaml\n",
      "Wrote components\\SOI220nm_1310nm_TE_RIB_2x2_MMI.yaml\n",
      "Wrote components\\SOI220nm_1310nm_TE_RIB_90_Degree_Bend.yaml\n",
      "Wrote components\\SOI220nm_1310nm_TE_RIB_Grating_Coupler.yaml\n",
      "Wrote components\\SOI220nm_1310nm_TE_RIB_Waveguide_Crossing.yaml\n",
      "Wrote components\\SOI220nm_1310nm_TE_RIB_Waveguide.yaml\n",
      "Wrote components\\SOI220nm_1310nm_TE_STRIP_2x1_MMI.yaml\n",
      "Wrote components\\SOI220nm_1310nm_TE_STRIP_2x2_MMI.yaml\n",
      "Wrote components\\SOI220nm_1310nm_TE_STRIP_90_Degree_Bend.yaml\n",
      "Wrote components\\SOI220nm_1310nm_TE_STRIP_Grating_Coupler.yaml\n",
      "Wrote components\\SOI220nm_1310nm_TE_STRIP_Waveguide_Crossing.yaml\n",
      "Wrote components\\SOI220nm_1310nm_TE_STRIP_Waveguide.yaml\n",
      "Wrote components\\SOI220nm_1310nm_TM_STRIP_Grating_Coupler.yaml\n",
      "Wrote components\\SOI220nm_1550nm_TE_RIB_2x1_MMI.yaml\n",
      "Wrote components\\SOI220nm_1550nm_TE_RIB_2x2_MMI.yaml\n",
      "Wrote components\\SOI220nm_1550nm_TE_RIB_90_Degree_Bend.yaml\n",
      "Wrote components\\SOI220nm_1550nm_TE_RIB_Grating_Coupler.yaml\n",
      "Wrote components\\SOI220nm_1550nm_TE_RIB_Waveguide_Crossing.yaml\n",
      "Wrote components\\SOI220nm_1550nm_TE_RIB_Waveguide.yaml\n",
      "Wrote components\\SOI220nm_1550nm_TE_STRIP_2x1_MMI.yaml\n",
      "Wrote components\\SOI220nm_1550nm_TE_STRIP_2x2_MMI.yaml\n",
      "Wrote components\\SOI220nm_1550nm_TE_STRIP_90_Degree_Bend.yaml\n",
      "Wrote components\\SOI220nm_1550nm_TE_STRIP_Grating_Coupler.yaml\n",
      "Wrote components\\SOI220nm_1550nm_TE_STRIP_Waveguide_Crossing.yaml\n",
      "Wrote components\\SOI220nm_1550nm_TE_STRIP_Waveguide.yaml\n",
      "Wrote components\\SOI220nm_1550nm_TM_STRIP_Grating_Coupler.yaml\n"
     ]
    }
   ],
   "source": [
    "import yaml\n",
    "\n",
    "for path in folder_to_process.glob(\"*.yml\"):\n",
    "    with open(path, \"r\") as f:\n",
    "        old_data = yaml.safe_load(f)\n",
    "\n",
    "    # build the new filename: everything before the final “_”\n",
    "    parts = path.stem.split(\"_\")\n",
    "    new_stem = \"_\".join(parts[:-1]) or parts[0] # fallback in case there was no \"_\"\n",
    "    new_path = path.with_name(f\"{new_stem}.yaml\")\n",
    "    new_data = {}\n",
    "\n",
    "    new_data[\"name\"] = new_stem\n",
    "    new_data[\"component_type\"] = \"TODO\"\n",
    "    new_data[\"ports\"] = []\n",
    "\n",
    "    for port_name, port in old_data[\"ports\"].items():\n",
    "        new_port = {\n",
    "            \"name\": port[\"name\"],\n",
    "            \"port_type\": get_port_type(port[\"port_type\"]),\n",
    "            \"center\": port[\"center\"],\n",
    "            \"orientation\": port[\"orientation\"],\n",
    "            \"cross_section\": \"TODO\",\n",
    "        }\n",
    "        if port[\"port_type\"] in [\"vertical_te\", \"vertical_tm\", \"edge\"]:\n",
    "            new_port[\"fibre_modes\"] = {\n",
    "                \"fibre_type\": \"TODO\",\n",
    "                \"wavelength\": \"TODO\"\n",
    "            }\n",
    "\n",
    "        \n",
    "        new_data[\"ports\"].append(new_port)\n",
    "\n",
    "    yaml.safe_dump(new_data, new_path.open(\"w\"), sort_keys=False)\n",
    "    print(f\"Wrote {new_path}\")"
   ]
  }
 ],
 "metadata": {
  "kernelspec": {
   "display_name": ".venv",
   "language": "python",
   "name": "python3"
  },
  "language_info": {
   "codemirror_mode": {
    "name": "ipython",
    "version": 3
   },
   "file_extension": ".py",
   "mimetype": "text/x-python",
   "name": "python",
   "nbconvert_exporter": "python",
   "pygments_lexer": "ipython3",
   "version": "3.13.2"
  }
 },
 "nbformat": 4,
 "nbformat_minor": 5
}
